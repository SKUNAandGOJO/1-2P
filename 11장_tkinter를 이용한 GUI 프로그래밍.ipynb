{
 "cells": [
  {
   "cell_type": "markdown",
   "metadata": {},
   "source": [
    "#### 11. tkinter를 이용한 GUI 프로그래밍"
   ]
  },
  {
   "cell_type": "code",
   "execution_count": 26,
   "metadata": {},
   "outputs": [],
   "source": [
    "from tkinter import *\t\t\n",
    "\n",
    "root = Tk()\t\t\t\t\t\n",
    "root.geometry(\"500x400\")\n",
    "\n",
    "a = Label(root, text=\"11월\", bg=\"yellow\")\n",
    "a.place(x=10, y=20)\n",
    "\n",
    "b = Label(root, text=\"가을이다\", bg=\"yellow\")\n",
    "b.place(x=60, y=30)\n",
    "\n",
    "c = Label(root, text=\"두달남음\", bg=\"yellow\")\n",
    "c.place(x=40, y=40)\n",
    "\n",
    "root.mainloop()\t\t"
   ]
  },
  {
   "cell_type": "code",
   "execution_count": 22,
   "metadata": {},
   "outputs": [],
   "source": [
    "from tkinter import *\n",
    "\n",
    "root = Tk()\n",
    "\n",
    "a = Label(root, text=\"메뉴\", font=(30))\n",
    "a.pack()\n",
    "\n",
    "def process() :\n",
    "    s = 0\n",
    "    if var1.get() == 1 :\n",
    "       \n",
    "       s = s + (2000*int(v1.get()))\n",
    "       \n",
    "    if var2.get() == 1 :\n",
    "        s = s + (3000*int(v2.get()))\n",
    "    \n",
    "    b[\"text\"] = str(s) +\"원\"\n",
    "\n",
    "def Cls() :\n",
    "    if var1.get() == 0 :\n",
    "        v1.delete(0, END)\n",
    "    if  var2.get() == 0 :\n",
    "        v2.delete(0, END)   \n",
    "\n",
    "f1 = Frame(root)\n",
    "var1 = IntVar()\n",
    "Checkbutton(f1, text=\"커피(2000원)\", variable=var1, command=Cls).pack(side=LEFT)\n",
    "v1 = Entry(f1)\n",
    "v1.pack(side=LEFT)\n",
    "f1.pack()\n",
    "\n",
    "f2 = Frame(root)\n",
    "var2 = IntVar()\n",
    "Checkbutton(f2, text=\"라떼(3000원)\", variable=var2, command=Cls).pack(side=LEFT)\n",
    "v2 = Entry(f2)\n",
    "v2.pack(side=LEFT)\n",
    "f2.pack()\n",
    "\n",
    "Button(root, text=\"주문하기\", width=40, height=3, command=process).pack()\n",
    "\n",
    "b = Label(root, text=\".\")\n",
    "b.pack()\n",
    "\n",
    "root.mainloop()"
   ]
  },
  {
   "cell_type": "code",
   "execution_count": 4,
   "metadata": {},
   "outputs": [],
   "source": [
    "from tkinter import *\n",
    "\n",
    "root = Tk()\n",
    "root.geometry(\"600x400\")\n",
    "\n",
    "def a():\n",
    "    ei = int(e1.get())\n",
    "    if ei % 2 == 0 :\n",
    "        l2[\"text\"] = \"짝수\"\n",
    "    else :\n",
    "        l2[\"text\"] = \"홀수\"\n",
    "\n",
    "l1 = Label(root, text=\"간단한 계산기\")\n",
    "l1.pack\n",
    "\n",
    "e1 = Entry(root)\n",
    "e1.pack()\n",
    "\n",
    "b1 = Button(root, text=\"짝수/홀수 판정하기\", command=a)\n",
    "b1.pack()\n",
    "\n",
    "l2 = Label(root, text=\"결과 ...\")\n",
    "l2.pack()\n",
    "\n",
    "root.mainloop()"
   ]
  },
  {
   "cell_type": "code",
   "execution_count": 18,
   "metadata": {},
   "outputs": [],
   "source": [
    "from tkinter import *\n",
    "import random\n",
    "\n",
    "r = Tk()\n",
    "\n",
    "r.geometry(\"1280x720\")\n",
    "# Label(r, text=\"처음으로 만든 윈도우 화면\",  bg=\"red\", width=1000, font=(30)).pack()\n",
    "# Label(r, text=\"나건우\",  bg=\"blue\", width=1000, font=(30)).pack()\n",
    "# Label(r, text=\"15935wb2512@gmail.com\",  bg=\"purple\", width=1000, font=(30)).pack()\n",
    "\n",
    "def process():\n",
    "    L[\"bg\"] = random.choice([\"purple\", \"red\", \"blue\"])\n",
    "    L[\"text\"] = random.choice([\"나 혼자만 레벨업\", \"진격의 거인\", \"주술회전\"])\n",
    "\n",
    "Button(r, text=\"클릭하세요!\", width=100, height=10, command=process).pack()\n",
    "\n",
    "L = Label(r, text=\"나 혼자만 레벨업\", font=(50), bg=\"blue\")\n",
    "L.pack()\n",
    "\n",
    "E = Entry().pack()\n",
    "r.mainloop()\n"
   ]
  },
  {
   "cell_type": "markdown",
   "metadata": {},
   "source": [
    "p.377 tkinter 시작하기"
   ]
  },
  {
   "cell_type": "code",
   "execution_count": 6,
   "metadata": {},
   "outputs": [],
   "source": [
    "from tkinter import *\t\t# tkinter 모듈을 포함\n",
    "\n",
    "root = Tk()\t\t\t\t\t# 루트 윈도우를 생성\n",
    "root.geometry(\"500x200\") \t# Width x Height\n",
    "label = Label(root, text=\"Hello tkinter\")\t# 레이블 위젯을 생성\n",
    "label.pack()\t\t\t\t# 레이블 위젯을 윈도우에 배치\n",
    "\n",
    "root.mainloop()\t\t\t\t# 윈도우가 사용자 동작을 대기"
   ]
  },
  {
   "cell_type": "markdown",
   "metadata": {},
   "source": [
    "p.379 레이블 위젯"
   ]
  },
  {
   "cell_type": "code",
   "execution_count": null,
   "metadata": {},
   "outputs": [],
   "source": [
    "from tkinter import *\t\t\t\t\n",
    "root = Tk()\t\t\t\t\t\n",
    "\n",
    "label1 = Label(root, text=\"안녕하세요?\", bg=\"yellow\", fg=\"blue\", width=80, height=2)\n",
    "label2 = Label(root, text=\"파이썬을 공부합니다.\", font=(\"궁서체\", 32))\n",
    "\n",
    "label1.pack()\t\t\t\t\t\n",
    "label2.pack()\t\t\t\t\t\n",
    "root.mainloop()"
   ]
  },
  {
   "cell_type": "markdown",
   "metadata": {},
   "source": [
    "p.380 버튼 위젯"
   ]
  },
  {
   "cell_type": "code",
   "execution_count": null,
   "metadata": {},
   "outputs": [],
   "source": [
    "from tkinter import *\t\t\t\t\n",
    "root = Tk()\t\t\t\t\t\n",
    "\n",
    "def process():\n",
    "    label[\"text\"] = \"버튼이 클릭됨\"\t\t\n",
    "\n",
    "button = Button(root, text=\"클릭하세요!\", command=process)\n",
    "button.pack()\t\n",
    "\n",
    "label = Label(root, text=\"버튼 클릭 안됨\")\n",
    "label.pack()\n",
    "root.mainloop()"
   ]
  },
  {
   "cell_type": "markdown",
   "metadata": {},
   "source": [
    "p.380 엔트리 위젯"
   ]
  },
  {
   "cell_type": "code",
   "execution_count": null,
   "metadata": {},
   "outputs": [],
   "source": [
    "from tkinter import *\t\t\t\t\n",
    "root = Tk()\t\t\t\t\t\n",
    "\n",
    "def process():\n",
    "    label[\"text\"] = entry.get()+\"가 입력됨\"\t\t\n",
    "\n",
    "entry = Entry(root, fg=\"black\", bg=\"yellow\", width=20)\n",
    "entry.pack()\t\t\t\t\t\n",
    "\n",
    "button = Button(root, text=\"입력 후 클릭하세요!\", command=process)\n",
    "button.pack()\n",
    "label = Label(root, text=\"아무 것도 입력 안됨!\")\n",
    "label.pack()\n",
    "root.mainloop()\t"
   ]
  },
  {
   "cell_type": "markdown",
   "metadata": {},
   "source": [
    "p.381 체크 버튼 위젯"
   ]
  },
  {
   "cell_type": "markdown",
   "metadata": {},
   "source": [
    "tkinter 에서는 변수 선언시 일반 코딩하듯이 변수 선언을 하면 에러가 발생한다. tkinter 에서 제공하는 함수를 사용하여 선언해야 한다.   \n",
    "    StringVar() : 문자열   \n",
    "    IntVar() : 정수   \n",
    "    DoubleVar() : 실수   \n",
    "    BooleanVar() : 부울형"
   ]
  },
  {
   "cell_type": "code",
   "execution_count": null,
   "metadata": {},
   "outputs": [],
   "source": [
    "from tkinter import *\n",
    "root = Tk()\n",
    "\n",
    "def process():\n",
    "\tif var1.get() == 1:\n",
    "\t\tlabel[\"text\"] = \"체크 박스 #1 선택\"\t\t\n",
    "\telse:\n",
    "\t\tlabel[\"text\"] = \"체크 박스 #1 선택 해제\"\t\t\n",
    "\t\t\n",
    "var1 = IntVar()\n",
    "Checkbutton(root, text=\"햄버거\", variable=var1, command=process).pack()\n",
    "\n",
    "label = Label(root, text=\"선택 안됨\")\n",
    "label.pack()\n",
    "root.mainloop()"
   ]
  },
  {
   "cell_type": "markdown",
   "metadata": {},
   "source": [
    "p.382 라디오 버튼 위젯"
   ]
  },
  {
   "cell_type": "code",
   "execution_count": null,
   "metadata": {},
   "outputs": [],
   "source": [
    "from tkinter import *\n",
    "root = Tk()\n",
    "\n",
    "def process():\n",
    "\tif var1.get() == 1:\n",
    "\t\tlabel[\"text\"] = \"햄버거 선택\"\t\t\n",
    "\telif var1.get() == 2:\n",
    "\t\tlabel[\"text\"] = \"피자 선택\"\t\t\n",
    "\telse:\n",
    "\t\tlabel[\"text\"] = \"김밥 선택\"\t\t\n",
    "\t\t\n",
    "var1 = IntVar()\n",
    "Radiobutton(root, text=\"햄버거\", variable=var1, value=1, command=process).pack()\n",
    "Radiobutton(root, text=\"피자\", variable=var1, value=2, command=process).pack()\n",
    "Radiobutton(root, text=\"김밥\", variable=var1, value=3, command=process).pack()\n",
    "\n",
    "label = Label(root, text=\"선택 안됨\")\n",
    "label.pack()\n",
    "root.mainloop()"
   ]
  },
  {
   "cell_type": "markdown",
   "metadata": {},
   "source": [
    "p.383 배치 관리자"
   ]
  },
  {
   "cell_type": "markdown",
   "metadata": {},
   "source": [
    "p.384 압축 배치 관리자"
   ]
  },
  {
   "cell_type": "code",
   "execution_count": null,
   "metadata": {},
   "outputs": [],
   "source": [
    "# 1\n",
    "from tkinter import *\n",
    "root = Tk()\n",
    "\n",
    "Button(root, text=\"박스 #1\", bg=\"red\", fg=\"white\").pack()\n",
    "Button(root, text=\"박스 #2\", bg=\"green\", fg=\"black\").pack()\n",
    "Button(root, text=\"박스 #3\", bg=\"orange\", fg=\"white\").pack()\n",
    "\n",
    "root.mainloop()"
   ]
  },
  {
   "cell_type": "code",
   "execution_count": null,
   "metadata": {},
   "outputs": [],
   "source": [
    "# 2\n",
    "from tkinter import *\n",
    "root = Tk()\n",
    "\n",
    "Button(root, text=\"박스 #1\", bg=\"red\", fg=\"white\").pack(side=LEFT)\n",
    "Button(root, text=\"박스 #2\", bg=\"green\", fg=\"black\").pack(side=LEFT)\n",
    "Button(root, text=\"박스 #3\", bg=\"orange\", fg=\"white\").pack(side=LEFT)\n",
    "\n",
    "root.mainloop()"
   ]
  },
  {
   "cell_type": "markdown",
   "metadata": {},
   "source": [
    "p.384 격자 배치 관리자"
   ]
  },
  {
   "cell_type": "code",
   "execution_count": null,
   "metadata": {},
   "outputs": [],
   "source": [
    "from tkinter import *\n",
    "root = Tk()\n",
    "\n",
    "b1 = Button(root, text=\"박스 #1\", bg=\"red\",    fg=\"white\")\n",
    "b2 = Button(root, text=\"박스 #2\", bg=\"green\",  fg=\"white\")\n",
    "b3 = Button(root, text=\"박스 #3\", bg=\"orange\", fg=\"white\")\n",
    "b4 = Button(root, text=\"박스 #4\", bg=\"pink\",   fg=\"white\")\n",
    "\n",
    "b1.grid(row=0, column=0)\t# 0행 0열\n",
    "b2.grid(row=0, column=1)\t# 0행 1열\n",
    "b3.grid(row=1, column=0)\t# 1행 0열\n",
    "b4.grid(row=1, column=1)\t# 1행 1열\n",
    "\n",
    "root.mainloop()"
   ]
  },
  {
   "cell_type": "markdown",
   "metadata": {},
   "source": [
    "p.385 절대 위치 배치 관리자"
   ]
  },
  {
   "cell_type": "code",
   "execution_count": null,
   "metadata": {},
   "outputs": [],
   "source": [
    "from tkinter import *\n",
    "\n",
    "root = Tk()\n",
    "\n",
    "b1 = Button(root, text=\"박스 #1\", bg=\"red\", fg=\"white\")\n",
    "b1.place(x=0, y=0)\n",
    "b2 = Button(root, text=\"박스 #2\", bg=\"green\", fg=\"black\")\n",
    "b2.place(x=20, y=30)\n",
    "b3 = Button(root, text=\"박스 #3\", bg=\"orange\", fg=\"white\")\n",
    "b3.place(x=40, y=60)\n",
    "\n",
    "root.mainloop()"
   ]
  },
  {
   "cell_type": "markdown",
   "metadata": {},
   "source": [
    "p.386 여러 배치 관리자 혼용하기"
   ]
  },
  {
   "cell_type": "code",
   "execution_count": null,
   "metadata": {},
   "outputs": [],
   "source": [
    "from tkinter import *\n",
    "\n",
    "root = Tk()\n",
    "f = Frame(root)\n",
    "\n",
    "b1 = Button(f, text=\"박스 #1\", bg=\"red\",    fg=\"white\")\n",
    "b2 = Button(f, text=\"박스 #2\", bg=\"green\",  fg=\"black\")\n",
    "b3 = Button(f, text=\"박스 #3\", bg=\"orange\", fg=\"white\")\n",
    "b1.pack(side=LEFT)\n",
    "b2.pack(side=LEFT)\n",
    "b3.pack(side=LEFT)\n",
    "\n",
    "l = Label(root, text=\"이 레이블은 버튼들 위에 배치된다.\")\n",
    "l.pack()\n",
    "\n",
    "f.pack()\n",
    "\n",
    "root.mainloop()"
   ]
  },
  {
   "cell_type": "markdown",
   "metadata": {},
   "source": [
    "p.387 Lab. 카운터 만들기"
   ]
  },
  {
   "cell_type": "code",
   "execution_count": 44,
   "metadata": {},
   "outputs": [],
   "source": [
    "from tkinter import *\n",
    "root = Tk()\n",
    "root.geometry(\"600x400\")\n",
    "l = Label(root, text=\"출입자 인원 확인\", font=(\"궁서체\", 30))\n",
    "l.grid(row=0, column=1, columnspan=2)\n",
    "\n",
    "cnt = 0\n",
    "\n",
    "def myin () :\n",
    "    global cnt\n",
    "    cnt = cnt + 1\n",
    "    l2[\"text\"] = str(cnt)\n",
    "\n",
    "def myout () :\n",
    "    global cnt\n",
    "    if l2[\"text\"] != \"0\" :\n",
    "     cnt = cnt - 1\n",
    "     l2[\"text\"] = str(cnt)\n",
    "\n",
    "b1 = Button(root, text=\"들어오기\", font=(\"궁서체\", 30), command=myin)\n",
    "b1.grid(row=1, column=1)\n",
    "\n",
    "b2 = Button(root, text=\"나가기\", font=(\"궁서체\", 30), command=myout)\n",
    "b2.grid(row=1, column=2)\n",
    "\n",
    "l2 = Label(root, text=\"0\", font=(\"궁서체\", 30), fg=\"blue\")\n",
    "l2.grid(row=2, column=1, columnspan=2)\n",
    "\n",
    "root.mainloop()"
   ]
  },
  {
   "cell_type": "code",
   "execution_count": null,
   "metadata": {},
   "outputs": [],
   "source": [
    "from tkinter import *\n",
    "\n",
    "root = Tk()\n",
    "\n",
    "counter = 0\n",
    "\n",
    "def clicked():\n",
    "    global counter\n",
    "    counter += 1\n",
    "    label['text'] = '버튼 클릭 횟수: ' + str(counter)\n",
    "        \n",
    "label = Label(root, text=\"아직 눌려지지 않음\")\n",
    "label.pack()\n",
    "button = Button(root, text=\"증가\", command=clicked)\n",
    "button.pack()\n",
    "\n",
    "root.mainloop()"
   ]
  },
  {
   "cell_type": "code",
   "execution_count": 61,
   "metadata": {},
   "outputs": [],
   "source": [
    "from tkinter import *\n",
    "\n",
    "root  = Tk()\n",
    "root.geometry(\"600x500\")\n",
    "\n",
    "l = Label(root, text=\"단위 평-변환 프로그램\")\n",
    "l.grid(row=0, column=3)\n",
    "\n",
    "def qqq() :\n",
    "   e1.delete(0, END)\n",
    "   e2.delete(0, END)\n",
    "\n",
    "def ttt() :\n",
    "    \n",
    "    if int(e1.get()) > 0 :\n",
    "       e2.delete(0, END)\n",
    "       e2.insert(0, str(int(e1.get()) * 3.3))\n",
    "    elif int(e2.get()) > 0 :\n",
    "       e1.delete(0, END)\n",
    "       e1.insert(0, str(int(e2.get()) * 0.3))\n",
    "\n",
    "l1 = Label(root, text=\"평\")\n",
    "l1.grid(row=1, column=1)\n",
    "e1 = Entry(root)\n",
    "e1.grid(row=1, column=2)\n",
    "\n",
    "b1 = Button(root, text=\"변환\", command=ttt)\n",
    "b1.grid(row=1, column=3)\n",
    "\n",
    "l2 = Label(root, text=\"제곱미터\")\n",
    "l2.grid(row=1, column=4)\n",
    "e2 = Entry(root)\n",
    "e2.grid(row=1, column=5)\n",
    "\n",
    "b2 = Button(root, text=\"지우기\", command=qqq)\n",
    "b2.grid(row=2, column=3)\n",
    "\n",
    "\n",
    "root.mainloop()"
   ]
  },
  {
   "cell_type": "markdown",
   "metadata": {},
   "source": [
    "p.388 온도 변환기"
   ]
  },
  {
   "cell_type": "code",
   "execution_count": null,
   "metadata": {},
   "outputs": [],
   "source": [
    "from tkinter import *\n",
    "\n",
    "# 이벤트 처리 함수를 정의한다. \n",
    "def process():\n",
    "    tf = float(e1.get())\t\t# e1에서 문자열을 읽어서 부동소수점형으로 변경\n",
    "    tc = (tf-32.0)*5.0/9.0\t\t# 화씨 온도를 섭씨 온도로 변환한다. \n",
    "    e2.delete(0, END)\t\t\t# 처음부터 끝까지 지운다.\n",
    "    e2.insert(0, str(tc))\t\t# tc 변수의 값을 문자열로 변환하여 추가한다.\n",
    "    \n",
    "root  = Tk()\n",
    "\n",
    "Label(root , text=\"화씨\").grid(row=0, column=0)\n",
    "Label(root, text=\"섭씨\").grid(row=1, column=0)\n",
    "\n",
    "e1 = Entry(root)\n",
    "e2 = Entry(root)\n",
    "e1.grid(row=0, column=1)\n",
    "e2.grid(row=1, column=1)\n",
    "\n",
    "Button(root, text=\"화씨->섭씨\", command=process).grid(row=2, column=1)\n",
    "root.mainloop()"
   ]
  },
  {
   "cell_type": "markdown",
   "metadata": {},
   "source": [
    "p.389 Lab. 숫자 추측 게임"
   ]
  },
  {
   "cell_type": "code",
   "execution_count": null,
   "metadata": {},
   "outputs": [],
   "source": [
    "from tkinter import *\n",
    "import random\n",
    "\n",
    "answer = random.randint(1,100)\t\t# 정답을 1에서 100 사이의 난수로 설정한다. \n",
    "\n",
    "def guessing():\n",
    "\tguess = int(guessField.get())\t# 텍스트 필드에서 사용자가 입력한 값을 가져온다.\n",
    "\n",
    "\tif   guess > answer:\n",
    "\t\tmsg = \"높음!\"\n",
    "\telif   guess < answer:\n",
    "\t\tmsg = \"낮음!\"\n",
    "\telse:\n",
    "\t\tmsg = \"정답!\"\n",
    "\t\t\n",
    "\tresultLabel[\"text\"] = msg\t\t# 메시지를 출력한다. \n",
    "\tguessField.delete(0, 5)\n",
    "\n",
    "def reset():\t\t\t\t# 정답을 다시 설정한다. \n",
    "\tglobal answer\n",
    "\tanswer = random.randint(1,100)\n",
    "\tresultLabel[\"text\"] = \"다시 한번 하세요!\"\n",
    "\n",
    "root = Tk()\n",
    "root.configure(bg=\"white\")\n",
    "root.title(\"숫자를 맞춰보세요!\")\n",
    "root.geometry(\"500x80\")\n",
    "\n",
    "titleLabel = Label(root, text=\"숫자 게임에 오신 것을 환영합니다!\", bg=\"white\")\n",
    "titleLabel.pack()\n",
    "\n",
    "guessField = Entry(root)\n",
    "guessField.pack(side=\"left\")\n",
    "tryButton = Button(root, text=\"시도\", fg=\"green\", bg=\"white\", command=guessing )\n",
    "tryButton.pack(side=\"left\")\n",
    "\n",
    "resetButton = Button(root, text=\"초기화\", fg=\"red\", bg=\"white\", command=reset)\n",
    "resetButton.pack(side=\"left\")\n",
    "resultLabel = Label(root, text=\"1부터 100사이의 숫자를 입력하시오.\", bg=\"white\") \n",
    "resultLabel.pack(side=\"left\")\n",
    "\n",
    "root.mainloop()"
   ]
  },
  {
   "cell_type": "code",
   "execution_count": 16,
   "metadata": {},
   "outputs": [],
   "source": [
    "from tkinter import *\n",
    "\n",
    "root = Tk()\n",
    "a = Label(root, text=\"무게 변환\", font=(30))\n",
    "a.grid(row=0, column=2)\n",
    "\n",
    "\n",
    "\n",
    "b = Entry(root)\n",
    "b.grid(row=1, column=0)\n",
    "bb = Label(root, text=\"Kg\", font=(20))\n",
    "bb.grid(row=1, column=1)\n",
    "bbb = Label(root, text=\"   \", font=(20))\n",
    "bbb.grid(row=1, column=2)\n",
    "\n",
    "\n",
    "def qqq() :\n",
    "    if var1.get() == 1:\n",
    "        d.delete(0, END)\n",
    "        d.insert(0, (int(b.get())*2.2))\n",
    "    elif var1.get() == 2:\n",
    "        d.delete(0, END)\n",
    "        d.insert(0, (int(b.get())*1.6))\n",
    "\n",
    "var1 = IntVar()\n",
    "c= Radiobutton(root, text=\"파운드\", variable=var1, value=1, command=qqq)\n",
    "c.grid(row=1, column=3)\n",
    "# value 빼고  command=Lamda: 000(\"000\") 이렇게 해도 됨  \n",
    "\n",
    "cc= Radiobutton(root, text=\"t(근)\", variable=var1, value=2, command=qqq)\n",
    "cc.grid(row=1, column=4)\n",
    "\n",
    "\n",
    "d = Entry(root)\n",
    "d.grid(row=2, column=0)\n",
    "\n",
    "\n",
    "\n",
    "\n",
    "\n",
    "\n",
    "\n",
    "\n",
    "\n",
    "\n",
    "root.mainloop()"
   ]
  },
  {
   "cell_type": "markdown",
   "metadata": {},
   "source": [
    "p.391 Lab. 계산기 프로그램"
   ]
  },
  {
   "cell_type": "code",
   "execution_count": 28,
   "metadata": {},
   "outputs": [],
   "source": [
    "from tkinter import *\n",
    "\n",
    "root = Tk()\n",
    "root.title(\"My Calculator\")\n",
    "display = Entry(root, width=33, bg=\"yellow\")\n",
    "display.grid(row=0, column=0, columnspan=5)\n",
    "\n",
    "button_list = [\n",
    "'7',  '8',  '9',  '/',  'C',\n",
    "'4',  '5',  '6',  '*',  '<-',\n",
    "'1',  '2',  '3',  '-',  ' ',\n",
    "'0',  '.',  '=',  '+',  ' ' ]\n",
    "\n",
    "cnt = 0\n",
    "\n",
    "def click(key):\n",
    "    global cnt\n",
    "    if   key == \"=\":\n",
    "        result = eval(display.get())\n",
    "        s = str(result)\n",
    "        cnt = cnt + 2\n",
    "        display.insert(END, \"=\" + s)\n",
    "    elif key == \"C\":\n",
    "        display.delete(0, END)\n",
    "    elif key == \"<-\":\n",
    "        display.delete(cnt-1, cnt)\n",
    "        cnt= cnt-1\n",
    "    else:\n",
    "        display.insert(END, key)\n",
    "        cnt = cnt + 1\n",
    "\n",
    "row_index = 1\n",
    "col_index = 0\n",
    "for button_text in button_list:\n",
    "    Button(root, text=button_text, width=5, command=lambda t=button_text: click(t)).grid(row=row_index, column=col_index)\n",
    "    col_index += 1\n",
    "    if   col_index > 4:\n",
    "        row_index += 1\n",
    "        col_index = 0\n",
    "root.mainloop()"
   ]
  },
  {
   "cell_type": "markdown",
   "metadata": {},
   "source": [
    "p.393 화면에 그림 그리기"
   ]
  },
  {
   "cell_type": "code",
   "execution_count": 39,
   "metadata": {},
   "outputs": [],
   "source": [
    "from tkinter import *\n",
    "\n",
    "root = Tk()\n",
    "root.geometry(\"500x500\")\n",
    "c= Canvas(root, width=300, height=300, bg=\"purple\")\n",
    "c.pack()\n",
    "\n",
    "# c.create_line(10, 10, 50, 50)\n",
    "\n",
    "# c.create_rectangle(50, 25, 150, 75, fill=\"blue\", outline=\"red\")\n",
    "\n",
    "# c.create_arc(50, 50, 200, 200, extent=90)\n",
    "# c.create_arc(50, 50, 200, 200, extent=180)\n",
    "# c.create_arc(50, 50, 200, 200, extent=270)\n",
    "\n",
    "# c.create_oval(50,50,300,300)\n",
    "\n",
    "# c.create_polygon(50, 50, 200, 100, 100, 300, fill=\"blue\")\n",
    "\n",
    "c.create_text(150, 150, text=\"Atack on titan\", fill=\"gray\", font=(\"궁서체\",20))\n",
    "\n",
    "root.mainloop()"
   ]
  },
  {
   "cell_type": "code",
   "execution_count": null,
   "metadata": {},
   "outputs": [],
   "source": [
    "from tkinter import *\n",
    "\n",
    "root = Tk()\n",
    "w = Canvas(root,  width=300, height=200)\n",
    "w.pack()\n",
    "\n",
    "w.create_rectangle(50, 25, 200, 100, fill=\"blue\")\n",
    "root.mainloop()"
   ]
  },
  {
   "cell_type": "markdown",
   "metadata": {},
   "source": [
    "p.394 이미지 표시하기"
   ]
  },
  {
   "cell_type": "code",
   "execution_count": 41,
   "metadata": {},
   "outputs": [],
   "source": [
    "from tkinter import *\n",
    "root = Tk()\n",
    "\n",
    "canvas = Canvas(root,  width=500, height=300)\n",
    "canvas.pack()\n",
    "\n",
    "img = PhotoImage(file=\"starship.jpg\")\n",
    "canvas.create_image(70, 70, anchor=SE, image=img)\n",
    "\n",
    "root.mainloop()"
   ]
  },
  {
   "cell_type": "markdown",
   "metadata": {},
   "source": [
    "p.395 도형 관리"
   ]
  },
  {
   "cell_type": "code",
   "execution_count": null,
   "metadata": {},
   "outputs": [],
   "source": [
    "from tkinter import *\n",
    "\n",
    "root = Tk()\n",
    "\n",
    "w = Canvas(root, width=300, height=200)\n",
    "w.pack()\n",
    "\n",
    "i = w.create_rectangle(50, 25, 200, 100, fill=\"red\")\n",
    "\n",
    "w.coords(i, 0, 0, 100, 100)     # 좌표를 변경한다. \n",
    "w.itemconfig(i, fill=\"blue\")    # 색상을 변경한다. \n",
    "\n",
    "# w.delete(i)    # 삭제한다. \n",
    "# w.delete(ALL)  # 모든 항목을 삭제한다. \n",
    "root.mainloop()"
   ]
  },
  {
   "cell_type": "markdown",
   "metadata": {},
   "source": [
    "p.396 도형 그리기"
   ]
  },
  {
   "cell_type": "code",
   "execution_count": null,
   "metadata": {},
   "outputs": [],
   "source": [
    "from tkinter import *\n",
    "\n",
    "WIDTH = 600\n",
    "HEIGHT = 200\n",
    "def displayRect():\n",
    "    canvas.create_rectangle(10,10,WIDTH-10,HEIGHT-10)\n",
    "\n",
    "def displayOval():\n",
    "    canvas.create_oval(10,10,WIDTH-10,HEIGHT-10, fill=\"yellow\")\n",
    "\n",
    "def displayArc():\n",
    "    canvas.create_arc(10,10,WIDTH-10,HEIGHT-10,start=0,\n",
    "                           extent=120,width=10,fill='blue')\n",
    "def displayPolygon():\n",
    "    canvas.create_polygon(10,10,WIDTH-10,HEIGHT-10,200,90,300, 160)\n",
    "\n",
    "def displayLine():\n",
    "    canvas.create_line(10,10,WIDTH-10,HEIGHT-10,fill='green')\n",
    "\n",
    "def clearCanvas():\n",
    "    canvas.delete(ALL)\n",
    "\n",
    "root=Tk()\n",
    "canvas=Canvas(root, width=WIDTH, height=HEIGHT, bg='white')\n",
    "canvas.pack()\n",
    "frame=Frame(root)\n",
    "frame.pack()\n",
    "\n",
    "Button(frame, text=\"Rectangle\", command=displayRect).grid(row=1,column=2)\n",
    "Button(frame,text=\"Oval\",command=displayOval).grid(row=1,column=3)\n",
    "Button(frame, text=\"Arc\",command=displayArc).grid(row=1,column=5)\n",
    "Button(frame, text=\"Polygon\",command=displayPolygon).grid(row=1,column=4)\n",
    "Button(frame, text=\"Line\",command=displayLine).grid(row=1,column=1)\n",
    "Button(frame,text=\"Clear\",command=clearCanvas).grid(row=1,column=7)\n",
    "\n",
    "root.mainloop()"
   ]
  },
  {
   "cell_type": "markdown",
   "metadata": {},
   "source": [
    "p.398 마우스 이벤트 처리"
   ]
  },
  {
   "cell_type": "code",
   "execution_count": 51,
   "metadata": {},
   "outputs": [],
   "source": [
    "from tkinter import *\n",
    "\n",
    "root = Tk()\n",
    "root.geometry(\"700x700\")\n",
    "c = Canvas(root, width=500, height=500)\n",
    "c.pack()\n",
    "\n",
    "oldx = 0\n",
    "oldy = 0\n",
    "\n",
    "def ttt(event):\n",
    "    # c.create_line(50, 50, 400, 500) \n",
    "\n",
    "    # c.create_line(event.x, event.y, event.x+200, event.y+200)\n",
    "\n",
    "    global oldx\n",
    "    global oldy\n",
    "\n",
    "    if oldx == 0 and oldy == 0:\n",
    "        oldx = event.x\n",
    "        oldy = event.y\n",
    "\n",
    "    c.create_line(oldx, oldy, event.x, event.y)\n",
    "    oldx = event.x\n",
    "    oldy = event.y\n",
    "\n",
    "root.bind(\"<M1-Motion>\", ttt)\n",
    "\n",
    "root.mainloop()"
   ]
  },
  {
   "cell_type": "code",
   "execution_count": null,
   "metadata": {},
   "outputs": [],
   "source": [
    "from tkinter import *\n",
    "\n",
    "root = Tk()\n",
    "root.geometry(\"600x200\") \n",
    "\n",
    "def callback(event):\n",
    "    print(event.x, event.y, \"에서 마우스 이벤트 발생\")\n",
    "\n",
    "root.bind(\"<Button-1>\", callback)\n",
    "root.mainloop()"
   ]
  },
  {
   "cell_type": "markdown",
   "metadata": {},
   "source": [
    "p.399 마우스로 도형 그리기"
   ]
  },
  {
   "cell_type": "code",
   "execution_count": null,
   "metadata": {},
   "outputs": [],
   "source": [
    "from tkinter import *\n",
    "import random\n",
    "\n",
    "def drawRect(e):\n",
    "\tcanvas.create_rectangle(e.x, e.y, e.x+random.randint(10, 100), e.y+random.randint(5, 100), width=3, outline=\"blue\")\n",
    "\n",
    "def drawCircle(e):\n",
    "\tcanvas.create_oval(e.x, e.y, e.x+random.randint(10, 100), e.y+random.randint(5, 100), width=3, outline=\"red\")\n",
    "\n",
    "root = Tk()\n",
    "canvas=Canvas(root, width=800, height=300, bg='white')\n",
    "canvas.pack()\n",
    "\n",
    "root.bind(\"<Button-1>\", drawRect)\n",
    "root.bind(\"<Button-3>\", drawCircle)\n",
    "root.mainloop()"
   ]
  },
  {
   "cell_type": "markdown",
   "metadata": {},
   "source": [
    "(추가) 사용자가 어떤 키를 눌렀는지, 마우스 클릭이 어느 위치에서 발생했는지 구하기"
   ]
  },
  {
   "cell_type": "code",
   "execution_count": null,
   "metadata": {},
   "outputs": [],
   "source": [
    "from tkinter import *\n",
    "\n",
    "window = Tk()\n",
    "\n",
    "def key(event):\n",
    "    print(repr(event.char), \"가 눌렸습니다. \")\n",
    "\n",
    "def callback(event):\n",
    "    frame.focus_set()\n",
    "    print(event.x, event.y, \"에서 마우스 이벤트 발생\")\n",
    "\n",
    "frame = Frame(window, width=200, height=100, background=\"yellow\")\n",
    "frame.bind(\"<Key>\", key)\n",
    "frame.bind(\"<Button-1>\", callback)\n",
    "frame.pack()\n",
    "\n",
    "window.mainloop()\n"
   ]
  },
  {
   "cell_type": "markdown",
   "metadata": {},
   "source": [
    "p.401 Lab 그림판 프로그램 만들기"
   ]
  },
  {
   "cell_type": "code",
   "execution_count": null,
   "metadata": {},
   "outputs": [],
   "source": [
    "from tkinter import *\n",
    "\n",
    "mode = \"pen\"\n",
    "old_x = None\n",
    "old_y = None\n",
    "mycolor = \"black\"\n",
    "\n",
    "def paint(event):\t# 이전 점과 현재 점 사이를 직선으로 연결한다. \n",
    "    global mode, old_x, old_y\n",
    "    fill_color = mycolor\n",
    "    if   old_x and old_y:\n",
    "        canvas.create_line(old_x, old_y, event.x, event.y, capstyle=ROUND, width=10, fill=fill_color)\n",
    "    old_x = event.x\n",
    "    old_y = event.y\n",
    "\n",
    "def reset(event):\t# 사용자가 마우스 버튼에서 손을 떼면 이전 점을 삭제한다. \n",
    "    global old_x, old_y\n",
    "    old_x, old_y = None, None\n",
    "    \n",
    "root = Tk()\t\n",
    "\n",
    "canvas = Canvas(root, bg='white', width=600, height=400)\n",
    "canvas.grid(row=1, columnspan=5)\n",
    "canvas.bind('<B1-Motion>', paint)\n",
    "canvas.bind('<ButtonRelease-1>', reset)\n",
    "\n",
    "root.mainloop()\n"
   ]
  },
  {
   "cell_type": "markdown",
   "metadata": {},
   "source": [
    "p.403 메뉴와 대화 상자"
   ]
  },
  {
   "cell_type": "markdown",
   "metadata": {},
   "source": [
    "메뉴"
   ]
  },
  {
   "cell_type": "code",
   "execution_count": null,
   "metadata": {},
   "outputs": [],
   "source": [
    "from tkinter import *\n",
    "root = Tk()\n",
    "\n",
    "def callback():\n",
    "    print(\"메뉴가 선택되었음\")\n",
    "\n",
    "menubar = Menu(root)\n",
    "\n",
    "filemenu = Menu(menubar, tearoff=0)\n",
    "filemenu.add_command(label=\"New\", command=callback)\n",
    "filemenu.add_command(label=\"Open\", command=callback)\n",
    "filemenu.add_separator()\n",
    "filemenu.add_command(label=\"Exit\", command=root.quit)\n",
    "\n",
    "menubar.add_cascade(label=\"File\", menu=filemenu)\n",
    "\n",
    "root.config(menu=menubar)\n",
    "root.mainloop()"
   ]
  },
  {
   "cell_type": "markdown",
   "metadata": {},
   "source": [
    "파일 열기 대화 상자"
   ]
  },
  {
   "cell_type": "code",
   "execution_count": null,
   "metadata": {},
   "outputs": [],
   "source": [
    "from tkinter import *\n",
    "from tkinter import filedialog\n",
    "\n",
    "def FileOpen():\n",
    "    filename = filedialog.askopenfilename(parent=root, \n",
    "                                        filetypes=((\"JPG files\", \"*.jpg\"),\n",
    "                                                   (\"all files\", \"*.*\")))\n",
    "    print(filename)\n",
    "   \n",
    "root = Tk()\n",
    "\n",
    "menubar = Menu(root)\n",
    "filemenu = Menu(menubar, tearoff=0)\n",
    "filemenu.add_command(label=\"New\")\n",
    "filemenu.add_command(label=\"Open\", command=FileOpen)\n",
    "filemenu.add_separator()\n",
    "filemenu.add_command(label=\"Exit\", command=root.quit)\n",
    "menubar.add_cascade(label=\"File\", menu=filemenu)\n",
    "\n",
    "root.config(menu=menubar)\n",
    "root.mainloop()"
   ]
  },
  {
   "cell_type": "markdown",
   "metadata": {},
   "source": [
    "p.404 이미지 그리기 프로그램"
   ]
  },
  {
   "cell_type": "code",
   "execution_count": null,
   "metadata": {},
   "outputs": [],
   "source": [
    "from tkinter import *\n",
    "from tkinter import filedialog\n",
    "\n",
    "def FileOpen():\n",
    "    global img\n",
    "    filename = filedialog.askopenfilename(parent=root,\n",
    "                                          filetypes=((\"PNG files\", \"*.png\"),\n",
    "                                          (\"all files\", \"*.*\")))\n",
    "    img = PhotoImage(file=filename)\n",
    "    canvas.create_image(20, 20, anchor=NW, image=img)\n",
    "   \n",
    "root = Tk()\n",
    "canvas = Canvas(root,  width=500, height=150)\n",
    "canvas.pack()\n",
    "img = None\t\t# 이미지 객체를 가르키는 변수가 미리 생성되어 있어야 한다. \n",
    "\n",
    "menubar = Menu(root)\n",
    "filemenu = Menu(menubar, tearoff=0)\n",
    "filemenu.add_command(label=\"New\")\n",
    "filemenu.add_command(label=\"Open\", command=FileOpen)\n",
    "filemenu.add_separator()\n",
    "filemenu.add_command(label=\"Exit\", command=root.quit)\n",
    "menubar.add_cascade(label=\"File\", menu=filemenu)\n",
    "\n",
    "root.config(menu=menubar)\n",
    "root.mainloop()"
   ]
  },
  {
   "cell_type": "markdown",
   "metadata": {},
   "source": [
    "p.406 Mini Project 애니메이션"
   ]
  },
  {
   "cell_type": "code",
   "execution_count": null,
   "metadata": {},
   "outputs": [],
   "source": [
    "import tkinter as tk\n",
    "import time\n",
    "\n",
    "CANVAS_WIDTH = 600\n",
    "CANVAS_HEIGHT = 400\n",
    " \n",
    "dx = 3\t\t# 원의 x 방향 속도이다. \n",
    "dy = 3\t\t# 원의 y 방향 속도이다. \n",
    "\n",
    "window = tk.Tk()\n",
    "canvas = tk.Canvas(window, width=CANVAS_WIDTH, height=CANVAS_HEIGHT, bg='lightblue')\n",
    "canvas.pack()\n",
    "\n",
    "# 캔버스에 원을 생성한다. \n",
    "obj_id = canvas.create_oval(50,0,150,100, fill=\"red\")\n",
    "# 애니메이션을 그리는 반복 루프\n",
    "while True:\n",
    "    canvas.move(obj_id, dx, dy)\n",
    "    x0, y0, x1, y1 = canvas.coords(obj_id)\t    # 현재 위치를 얻는다. \n",
    "    if   y1 > canvas.winfo_height() or y0 < 0:\t# 원이 위쪽이나 아래쪽으로 벗어났으면\n",
    "        dy = -dy\t\t\t\t                # dy의 부호를 반전시킨다. \n",
    "    if   x1 > canvas.winfo_width() or x0 < 0:\t# 원이 왼쪽이나 오른쪽으로 벗어났으면\n",
    "        dx = -dx\t\t\t\t                # dx의 부호를 반전시킨다. \n",
    "    window.update()\t\t\t\t                # 화면을 업데이트한다. \n",
    "    time.sleep(0.05)\t\t\t\t            # 약간의 시간지연 \n",
    "\n",
    "window.mainloop()"
   ]
  },
  {
   "cell_type": "markdown",
   "metadata": {},
   "source": [
    "p.409 연습문제"
   ]
  },
  {
   "cell_type": "markdown",
   "metadata": {},
   "source": [
    "p.411 Programming"
   ]
  }
 ],
 "metadata": {
  "kernelspec": {
   "display_name": "Python 3",
   "language": "python",
   "name": "python3"
  },
  "language_info": {
   "codemirror_mode": {
    "name": "ipython",
    "version": 3
   },
   "file_extension": ".py",
   "mimetype": "text/x-python",
   "name": "python",
   "nbconvert_exporter": "python",
   "pygments_lexer": "ipython3",
   "version": "3.11.5"
  },
  "orig_nbformat": 4
 },
 "nbformat": 4,
 "nbformat_minor": 2
}
